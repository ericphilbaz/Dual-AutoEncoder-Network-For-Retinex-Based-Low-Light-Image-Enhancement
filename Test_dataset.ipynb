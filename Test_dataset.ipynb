{
 "cells": [
  {
   "cell_type": "code",
   "execution_count": 1,
   "metadata": {},
   "outputs": [],
   "source": [
    "import os\n",
    "from os import walk\n",
    "import numpy as np\n",
    "from tensorflow.keras.preprocessing.image import img_to_array, load_img\n",
    "from img_helper import rgb_to_hsv_images, convert_To_Low_Light_images, hsv_to_rgb_images\n",
    "\n",
    "# Fix the random seed for reproducibility\n",
    "seed = 7\n",
    "np.random.seed(seed)\n",
    "\n",
    "dataset_path = \"D:/university/winter 2020/2d image processing/Final Project/2d pro files/PhotoCD_PCD0992/\"\n",
    "dataset_npy_path = \"D:/university/winter 2020/2d image processing/Final Project/2d pro files/PhotoCD_PCD0992 npys/\""
   ]
  },
  {
   "cell_type": "code",
   "execution_count": 2,
   "metadata": {},
   "outputs": [],
   "source": [
    "# Image parameters\n",
    "image_width = 100\n",
    "image_height = image_width\n",
    "no_of_channels = 3\n",
    "\n",
    "# Load in all images from the specified folder\n",
    "def dataset_creation(image_folder):\n",
    "\n",
    "    image_files=[]\n",
    "    for (dir_path, dir_names, file_names) in walk(image_folder):\n",
    "        for fname in file_names:\n",
    "            if fname is not \".ipynb_checkpoints\":\n",
    "                image_files.append(os.path.join(dir_path,fname))\n",
    "    \n",
    "    image_array = np.ndarray(shape=(len(image_files), image_width, image_height, no_of_channels),\n",
    "                         dtype=np.float32)\n",
    "\n",
    "    i = 0\n",
    "    for f in image_files:\n",
    "    \timage = load_img(f, target_size=(image_width, image_height))\n",
    "    \tvar = img_to_array(image)\n",
    "    \timage_array[i] = var\n",
    "    \ti += 1\n",
    "    \n",
    "    # Rescale the pixel values to range [0,1]\n",
    "    image_array = image_array/np.max(image_array)\n",
    "    \n",
    "    image_array_Low = convert_To_Low_Light_images(rgb_to_hsv_images(image_array),image_width)\n",
    "    image_array_Low = hsv_to_rgb_images(image_array_Low)\n",
    "    image_array_High = image_array\n",
    "    return image_array_Low, image_array_High\n",
    "\n",
    "# Create image datasets\n",
    "testing_RGB_Low_new, testing_RGB_High_new = dataset_creation(dataset_path)\n",
    "\n",
    "np.save(os.path.join(dataset_npy_path,\"testing_RGB_Low_new.npy\"),testing_RGB_Low_new)\n",
    "np.save(os.path.join(dataset_npy_path,\"testing_RGB_High_new.npy\"),testing_RGB_High_new)"
   ]
  },
  {
   "cell_type": "code",
   "execution_count": 3,
   "metadata": {},
   "outputs": [],
   "source": [
    "testing_HSV_Low_new = rgb_to_hsv_images(testing_RGB_Low_new)\n",
    "testing_HSV_High_new = rgb_to_hsv_images(testing_RGB_High_new)\n",
    "\n",
    "np.save(os.path.join(dataset_npy_path,\"testing_HSV_Low_new.npy\"),testing_HSV_Low_new)\n",
    "np.save(os.path.join(dataset_npy_path,\"testing_HSV_High_new.npy\"),testing_HSV_High_new)"
   ]
  }
 ],
 "metadata": {
  "kernelspec": {
   "display_name": "Python 3",
   "language": "python",
   "name": "python3"
  },
  "language_info": {
   "codemirror_mode": {
    "name": "ipython",
    "version": 3
   },
   "file_extension": ".py",
   "mimetype": "text/x-python",
   "name": "python",
   "nbconvert_exporter": "python",
   "pygments_lexer": "ipython3",
   "version": "3.6.6"
  }
 },
 "nbformat": 4,
 "nbformat_minor": 4
}
